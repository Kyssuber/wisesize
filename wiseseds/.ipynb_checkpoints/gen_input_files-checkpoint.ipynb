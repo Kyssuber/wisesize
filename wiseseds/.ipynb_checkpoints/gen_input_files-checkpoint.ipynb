{
 "cells": [
  {
   "cell_type": "code",
   "execution_count": 46,
   "id": "40317e7c-5639-43a9-8cc4-0658f52bf2ba",
   "metadata": {
    "tags": []
   },
   "outputs": [],
   "source": [
    "import numpy as np\n",
    "from astropy.table import Table\n",
    "import os\n",
    "homedir=os.getenv('HOME')"
   ]
  },
  {
   "cell_type": "code",
   "execution_count": 2,
   "id": "879a6538-e098-4f0d-84d4-8259f7e36293",
   "metadata": {
    "tags": []
   },
   "outputs": [],
   "source": [
    "#load phot table, vf table\n",
    "#convert phot fluxes from nanomaggies to mJy --> multiply by 3.631e-3\n",
    "#if no flux entry, replace with NaN\n",
    "#header format must follow the following setup:\n",
    "# id redshift filter1 filter1_err filter2 filter2_err filter3 filter3_err ...\n",
    "#I *think* I will generate two input files? One for DEC>+32, one for DEC<+32 (will have different grz filters)\n",
    "#for pcigale.ini (after pcigale genconf), may either have to MANUALLY edit file *or* try some automatic\n",
    "# approach based on user-set parameters\n",
    "\n",
    "#regarding the output files...\n",
    "    #create empty table, same length as vf\n",
    "    #add all VFIDs as first column\n",
    "    #for every ID in output file, find correct row element and insert the desired parameters\n",
    "    #CONVERT SFR, Mstar to log10!"
   ]
  },
  {
   "cell_type": "code",
   "execution_count": 3,
   "id": "8ef2cc73-8995-4026-aae7-1badafb84f7f",
   "metadata": {},
   "outputs": [],
   "source": [
    "#load tables\n",
    "vf = Table.read(homedir+'/Desktop/v2-20220820/vf_v2_environment.fits')\n",
    "phot = Table.read(homedir+'/Desktop/v2-20220820/vf_v2_legacy_ephot.fits')"
   ]
  },
  {
   "cell_type": "code",
   "execution_count": 4,
   "id": "bbbf87fa-cb07-459d-b645-a32a9ed0d75a",
   "metadata": {},
   "outputs": [],
   "source": [
    "#convert cosmic velocities to redshifts...v=cz for low-z objects\n",
    "z = vf['Vcosmic']/3e5"
   ]
  },
  {
   "cell_type": "code",
   "execution_count": 5,
   "id": "f75d12a2-5c68-47a9-aa7b-6e22a2a1b259",
   "metadata": {
    "tags": []
   },
   "outputs": [],
   "source": [
    "#create flag to remove galaxies with negative z\n",
    "z_flag = (z>0)\n",
    "\n",
    "#also prepare phot flag, for later\n",
    "phot_flag = (phot['photFlag'])\n",
    "\n",
    "#combine flags\n",
    "good_flag = z_flag & phot_flag"
   ]
  },
  {
   "cell_type": "code",
   "execution_count": 6,
   "id": "2cfc373e-6359-4808-a86a-846b594f2b47",
   "metadata": {
    "tags": []
   },
   "outputs": [],
   "source": [
    "#trim tables\n",
    "vf = vf[good_flag]\n",
    "phot = phot[good_flag]\n",
    "z = z[good_flag]"
   ]
  },
  {
   "cell_type": "code",
   "execution_count": 7,
   "id": "553a90c6-5408-4705-9965-028b596a6a87",
   "metadata": {
    "tags": []
   },
   "outputs": [],
   "source": [
    "#isolate needed phot fluxes; convert from nanomaggies to mJy\n",
    "#order: W1, W2, W3, W4, NUV, FUV, G, R\n",
    "\n",
    "fluxes = [phot['FLUX_AP06_W1']*3.631e-3, phot['FLUX_AP06_W2']*3.631e-3, phot['FLUX_AP06_W3']*3.631e-3,\n",
    "         phot['FLUX_AP06_W4']*3.631e-3, phot['FLUX_AP06_NUV']*3.631e-3, phot['FLUX_AP06_FUV']*3.631e-3,\n",
    "         phot['FLUX_AP06_G']*3.631e-3, phot['FLUX_AP06_R']*3.631e-3]\n",
    "\n",
    "flux_ivars = [phot['FLUX_IVAR_AP06_W1'], phot['FLUX_IVAR_AP06_W2'],\n",
    "             phot['FLUX_IVAR_AP06_W3'], phot['FLUX_IVAR_AP06_W4'],\n",
    "             phot['FLUX_IVAR_AP06_NUV'], phot['FLUX_IVAR_AP06_FUV'],\n",
    "             phot['FLUX_IVAR_AP06_G'], phot['FLUX_IVAR_AP06_R']]"
   ]
  },
  {
   "cell_type": "code",
   "execution_count": 8,
   "id": "24a90787-8da6-4abd-bb7c-5c9f3030b559",
   "metadata": {
    "tags": []
   },
   "outputs": [],
   "source": [
    "flux_errs = [np.zeros(len(phot)),np.zeros(len(phot)),np.zeros(len(phot)),np.zeros(len(phot)),\n",
    "             np.zeros(len(phot)),np.zeros(len(phot)),np.zeros(len(phot)),np.zeros(len(phot))]\n",
    "\n",
    "#for every list of fluxes...\n",
    "for index in range(len(flux_ivars)):\n",
    "    #for every element in that list of fluxes...\n",
    "    for n in range(len(flux_errs[index])):\n",
    "        #if zero or negative, replace with NaN\n",
    "        #can do for both fluxes AND flux errors!\n",
    "        if (flux_ivars[index][n]==0.) | (flux_ivars[index][n]<0.) | (fluxes[index][n]<0.) | (fluxes[index][n]==0.):\n",
    "            flux_errs[index][n] = 'NaN'  \n",
    "            fluxes[index][n] = 'NaN'\n",
    "        #if not zero, calculate error as normal\n",
    "        else:\n",
    "            flux_errs[index][n] = np.sqrt(1/flux_ivars[index][n])*3.631e-3"
   ]
  },
  {
   "cell_type": "code",
   "execution_count": 31,
   "id": "81648dce-20a8-4ef1-906c-b9caa810b79f",
   "metadata": {
    "tags": []
   },
   "outputs": [],
   "source": [
    "#create table to organize results\n",
    "\n",
    "faux_table = Table([phot['VFID'],np.round(z,4),fluxes[0],flux_errs[0],fluxes[1],flux_errs[1],\n",
    "                   fluxes[2],flux_errs[2],fluxes[3],flux_errs[3],fluxes[4],flux_errs[4],\n",
    "                   fluxes[5],flux_errs[5],fluxes[6],flux_errs[6],fluxes[7],flux_errs[7]],\n",
    "                   names=['VFID','redshift','WISE1','WISE1_err','WISE2','WISE2_err','WISE3','WISE3_err',\n",
    "                          'WISE4','WISE4_err','NUV','NUV_err','FUV','FUV_err','g','g_err','r','r_err'])\n",
    "\n",
    "#I will need these flags as well. humph.\n",
    "north_flag = phot['DEC_MOMENT']>32\n",
    "south_flag = phot['DEC_MOMENT']<32"
   ]
  },
  {
   "cell_type": "code",
   "execution_count": 42,
   "id": "c0bc24c8-30a0-4d3a-ad36-d3cbf875dcdd",
   "metadata": {
    "tags": []
   },
   "outputs": [],
   "source": [
    "#write files...\n",
    "\n",
    "with open(homedir+'/Desktop/cigale_vf_north/vf_data_north.txt', 'w') as file:\n",
    "    #create file header\n",
    "    s = '# id redshift FUV FUV_err NUV NUV_err g g_err r r_err WISE1 WISE1_err WISE2 WISE2_err WISE3 WISE3_err WISE4 WISE4_err'+' \\n'\n",
    "    file.write(s)\n",
    "    \n",
    "    #for every \"good\" galaxy in phot, add a row to the text file with relevant information\n",
    "    for n in faux_table[north_flag]:\n",
    "        \n",
    "        s_gal = f\"{n[0]} {n[1]} %.3f %.3f %.3f %.3f %.3f %.3f %.3f %.3f %.3f %.3f %.3f %.3f %.3f %.3f %.3f %.3f\"%(n[2],n[3],n[4],n[5],n[6],n[7],n[8],n[9],n[10],n[11],n[12],n[13],n[14],n[15],n[16],n[17]) + '\\n'\n",
    "        file.write(s_gal)\n",
    "    \n",
    "    file.close()    \n",
    "\n",
    "with open(homedir+'/Desktop/cigale_vf_south/vf_data_south.txt', 'w') as file:\n",
    "    #create file header\n",
    "    s = '# id redshift FUV FUV_err NUV NUV_err g g_err r r_err WISE1 WISE1_err WISE2 WISE2_err WISE3 WISE3_err WISE4 WISE4_err'+' \\n'\n",
    "    file.write(s)\n",
    "    \n",
    "    #for every \"good\" galaxy in phot, add a row to the text file with relevant information\n",
    "    for n in faux_table[south_flag]:\n",
    "        \n",
    "        s_gal = f\"{n[0]} {n[1]} %.3f %.3f %.3f %.3f %.3f %.3f %.3f %.3f %.3f %.3f %.3f %.3f %.3f %.3f %.3f %.3f\"%(n[2],n[3],n[4],n[5],n[6],n[7],n[8],n[9],n[10],n[11],n[12],n[13],n[14],n[15],n[16],n[17]) + '\\n'\n",
    "        file.write(s_gal)\n",
    "    \n",
    "    file.close()    "
   ]
  },
  {
   "cell_type": "code",
   "execution_count": 43,
   "id": "8f11c9c4-7a70-4d44-b50a-b61f640f68f2",
   "metadata": {
    "tags": []
   },
   "outputs": [],
   "source": [
    "#and that is that."
   ]
  },
  {
   "cell_type": "markdown",
   "id": "cffe9d82-8414-4f5d-b911-b459ca31519b",
   "metadata": {},
   "source": [
    "---"
   ]
  },
  {
   "cell_type": "code",
   "execution_count": 44,
   "id": "92d0760f-d43b-4cc8-a0c2-18397b54d6c4",
   "metadata": {
    "tags": []
   },
   "outputs": [],
   "source": [
    "#I now need to create the pcigale.ini text file...\n",
    "#the format is as follows:\n",
    "\n",
    "#data_file = ___\n",
    "#parameters_file = ___\n",
    "#sed_modules = ___\n",
    "#analysis_method = pdf_analysis\n",
    "#cores = ___\n",
    "\n",
    "#for now, we will use:\n",
    "\n",
    "#data_file = vf_data_{north/south}.fits\n",
    "#parameters_file = \n",
    "#sed_modules = sfh2exp, bc03, nebular, dustatt_modified_CF00, dl2014, redshifting\n",
    "#analysis_method = pdf_analysis\n",
    "#cores = 1"
   ]
  },
  {
   "cell_type": "code",
   "execution_count": 45,
   "id": "a6b9ca68-08c2-432b-ae33-532f1a9a163c",
   "metadata": {
    "tags": []
   },
   "outputs": [],
   "source": [
    "#write files...\n",
    "\n",
    "with open(homedir+'/Desktop/cigale_vf_north/pcigale.ini', 'w') as file:\n",
    "    file.write('data_file = vf_data_north.txt \\n')\n",
    "    file.write('parameters_file = \\n')\n",
    "    file.write('sed_modules = sfh2exp, bc03, nebular, dustatt_modified_CF00, dl2014, redshifting \\n')\n",
    "    file.write('analysis_method = pdf_analysis \\n')\n",
    "    file.write('cores = 1 \\n')\n",
    "    file.close()    \n",
    "\n",
    "with open(homedir+'/Desktop/cigale_vf_south/pcigale.ini', 'w') as file:\n",
    "    file.write('data_file = vf_data_south.txt \\n')\n",
    "    file.write('parameters_file = \\n')\n",
    "    file.write('sed_modules = sfh2exp, bc03, nebular, dustatt_modified_CF00, dl2014, redshifting \\n')\n",
    "    file.write('analysis_method = pdf_analysis \\n')\n",
    "    file.write('cores = 1 \\n')\n",
    "    file.close()    "
   ]
  },
  {
   "cell_type": "markdown",
   "id": "1c243300-0c94-4acc-85cd-c8197c70bbea",
   "metadata": {},
   "source": [
    "---"
   ]
  },
  {
   "cell_type": "code",
   "execution_count": 48,
   "id": "dc63426e-fb12-43f4-af55-8355a93d3757",
   "metadata": {
    "tags": []
   },
   "outputs": [],
   "source": [
    "#now that I have the main architecture, I will demonstrate the functionality of the .py files\n",
    "#all column names are currently tailored to the VFS photometry catalog. subject to change."
   ]
  },
  {
   "cell_type": "code",
   "execution_count": 60,
   "id": "c2a4da89-d0c1-4c0d-8757-fb6ba38aed91",
   "metadata": {
    "tags": []
   },
   "outputs": [],
   "source": [
    "%run generate_input_files.py"
   ]
  },
  {
   "cell_type": "code",
   "execution_count": 58,
   "id": "9012c792-977a-40ad-95fc-9e5e573c6f9b",
   "metadata": {
    "tags": []
   },
   "outputs": [],
   "source": [
    "###GENERAL NOTES FOR WHEN FILTERS ARE UPDATED###\n",
    "\n",
    "# -- will need to add new filters to CIGALE (follow instructions in the readme file here:\n",
    "#         https://gitlab.lam.fr/cigale/cigale/-/tree/master/database_builder/filters?ref_type=heads\n",
    "# -- once filters added, adjust lines ~98 and ~111 of .py script"
   ]
  },
  {
   "cell_type": "code",
   "execution_count": 64,
   "id": "dbe118af-4c8e-4d28-a5c7-6eb7830a578d",
   "metadata": {
    "tags": []
   },
   "outputs": [],
   "source": [
    "param_dict={}\n",
    "with open(homedir+'/Desktop/cigale_vf_north/pcigale.ini') as f:\n",
    "    for line in f:\n",
    "        try:\n",
    "            key = line.split()[0]   #the variable namm\n",
    "            val = line.split()[2]   #the element AFTER the equal sign\n",
    "            param_dict[key] = val\n",
    "        except:\n",
    "            continue"
   ]
  },
  {
   "cell_type": "code",
   "execution_count": 65,
   "id": "7444fcc7-eb56-4a6f-988a-e9566026b48d",
   "metadata": {
    "tags": []
   },
   "outputs": [
    {
     "data": {
      "text/plain": [
       "{'data_file': 'vf_data_north.txt',\n",
       " 'sed_modules': 'sfh2exp,',\n",
       " 'analysis_method': 'pdf_analysis',\n",
       " 'cores': '1'}"
      ]
     },
     "execution_count": 65,
     "metadata": {},
     "output_type": "execute_result"
    }
   ],
   "source": [
    "param_dict"
   ]
  },
  {
   "cell_type": "code",
   "execution_count": null,
   "id": "5ba42d7b-243a-4459-8b11-fb6373fe217e",
   "metadata": {},
   "outputs": [],
   "source": []
  }
 ],
 "metadata": {
  "kernelspec": {
   "display_name": "Python 3 (ipykernel)",
   "language": "python",
   "name": "python3"
  },
  "language_info": {
   "codemirror_mode": {
    "name": "ipython",
    "version": 3
   },
   "file_extension": ".py",
   "mimetype": "text/x-python",
   "name": "python",
   "nbconvert_exporter": "python",
   "pygments_lexer": "ipython3",
   "version": "3.11.8"
  }
 },
 "nbformat": 4,
 "nbformat_minor": 5
}
