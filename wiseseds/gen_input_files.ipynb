{
 "cells": [
  {
   "cell_type": "code",
   "execution_count": 210,
   "id": "40317e7c-5639-43a9-8cc4-0658f52bf2ba",
   "metadata": {
    "tags": []
   },
   "outputs": [],
   "source": [
    "import numpy as np\n",
    "from astropy.table import Table, vstack\n",
    "from matplotlib import pyplot as plt\n",
    "%matplotlib inline\n",
    "import re\n",
    "import os\n",
    "homedir=os.getenv('HOME')"
   ]
  },
  {
   "cell_type": "code",
   "execution_count": 94,
   "id": "879a6538-e098-4f0d-84d4-8259f7e36293",
   "metadata": {
    "tags": []
   },
   "outputs": [],
   "source": [
    "#load phot table, vf table\n",
    "#convert phot fluxes from nanomaggies to mJy --> multiply by 3.631e-3\n",
    "#if no flux entry, replace with NaN\n",
    "#header format must follow the following setup:\n",
    "# id redshift filter1 filter1_err filter2 filter2_err filter3 filter3_err ...\n",
    "#I *think* I will generate two input files? One for DEC>+32, one for DEC<+32 (will have different grz filters)\n",
    "#for pcigale.ini (after pcigale genconf), may either have to MANUALLY edit file *or* try some automatic\n",
    "# approach based on user-set parameters\n",
    "\n",
    "#regarding the output files...\n",
    "    #create empty table, same length as vf\n",
    "    #add all VFIDs as first column\n",
    "    #for every ID in output file, find correct row element and insert the desired parameters\n",
    "    #CONVERT SFR, Mstar to log10!"
   ]
  },
  {
   "cell_type": "code",
   "execution_count": 95,
   "id": "8ef2cc73-8995-4026-aae7-1badafb84f7f",
   "metadata": {},
   "outputs": [],
   "source": [
    "#load tables\n",
    "vf = Table.read(homedir+'/Desktop/v2-20220820/vf_v2_environment.fits')\n",
    "phot = Table.read(homedir+'/Desktop/v2-20220820/vf_v2_legacy_ephot.fits')"
   ]
  },
  {
   "cell_type": "code",
   "execution_count": 96,
   "id": "bbbf87fa-cb07-459d-b645-a32a9ed0d75a",
   "metadata": {},
   "outputs": [],
   "source": [
    "#convert cosmic velocities to redshifts...v=cz for low-z objects\n",
    "z = vf['Vcosmic']/3e5"
   ]
  },
  {
   "cell_type": "code",
   "execution_count": 97,
   "id": "f75d12a2-5c68-47a9-aa7b-6e22a2a1b259",
   "metadata": {
    "tags": []
   },
   "outputs": [],
   "source": [
    "#create flag to remove galaxies with negative z\n",
    "z_flag = (z>0)\n",
    "\n",
    "#also prepare phot flag, for later\n",
    "phot_flag = (phot['photFlag'])\n",
    "\n",
    "#combine flags\n",
    "good_flag = z_flag & phot_flag"
   ]
  },
  {
   "cell_type": "code",
   "execution_count": 98,
   "id": "2cfc373e-6359-4808-a86a-846b594f2b47",
   "metadata": {
    "tags": []
   },
   "outputs": [],
   "source": [
    "#trim tables\n",
    "vf = vf[good_flag]\n",
    "phot = phot[good_flag]\n",
    "z = z[good_flag]"
   ]
  },
  {
   "cell_type": "code",
   "execution_count": 99,
   "id": "553a90c6-5408-4705-9965-028b596a6a87",
   "metadata": {
    "tags": []
   },
   "outputs": [],
   "source": [
    "#isolate needed phot fluxes; convert from nanomaggies to mJy\n",
    "#order: W1, W2, W3, W4, NUV, FUV, G, R\n",
    "\n",
    "fluxes = [phot['FLUX_AP06_W1']*3.631e-3, phot['FLUX_AP06_W2']*3.631e-3, phot['FLUX_AP06_W3']*3.631e-3,\n",
    "         phot['FLUX_AP06_W4']*3.631e-3, phot['FLUX_AP06_NUV']*3.631e-3, phot['FLUX_AP06_FUV']*3.631e-3,\n",
    "         phot['FLUX_AP06_G']*3.631e-3, phot['FLUX_AP06_R']*3.631e-3]\n",
    "\n",
    "flux_ivars = [phot['FLUX_IVAR_AP06_W1'], phot['FLUX_IVAR_AP06_W2'],\n",
    "             phot['FLUX_IVAR_AP06_W3'], phot['FLUX_IVAR_AP06_W4'],\n",
    "             phot['FLUX_IVAR_AP06_NUV'], phot['FLUX_IVAR_AP06_FUV'],\n",
    "             phot['FLUX_IVAR_AP06_G'], phot['FLUX_IVAR_AP06_R']]"
   ]
  },
  {
   "cell_type": "code",
   "execution_count": 100,
   "id": "24a90787-8da6-4abd-bb7c-5c9f3030b559",
   "metadata": {
    "tags": []
   },
   "outputs": [],
   "source": [
    "flux_errs = [np.zeros(len(phot)),np.zeros(len(phot)),np.zeros(len(phot)),np.zeros(len(phot)),\n",
    "             np.zeros(len(phot)),np.zeros(len(phot)),np.zeros(len(phot)),np.zeros(len(phot))]\n",
    "\n",
    "#for every list of fluxes...\n",
    "for index in range(len(flux_ivars)):\n",
    "    #for every element in that list of fluxes...\n",
    "    for n in range(len(flux_errs[index])):\n",
    "        #if zero or negative, replace with NaN\n",
    "        #can do for both fluxes AND flux errors!\n",
    "        if (flux_ivars[index][n]==0.) | (flux_ivars[index][n]<0.) | (fluxes[index][n]<0.) | (fluxes[index][n]==0.):\n",
    "            flux_errs[index][n] = 'NaN'  \n",
    "            fluxes[index][n] = 'NaN'\n",
    "        #if not zero, calculate error as normal\n",
    "        else:\n",
    "            flux_errs[index][n] = np.sqrt(1/flux_ivars[index][n])*3.631e-3"
   ]
  },
  {
   "cell_type": "code",
   "execution_count": 101,
   "id": "81648dce-20a8-4ef1-906c-b9caa810b79f",
   "metadata": {
    "tags": []
   },
   "outputs": [],
   "source": [
    "#create table to organize results\n",
    "\n",
    "faux_table = Table([phot['VFID'],np.round(z,4),fluxes[0],flux_errs[0],fluxes[1],flux_errs[1],\n",
    "                   fluxes[2],flux_errs[2],fluxes[3],flux_errs[3],fluxes[4],flux_errs[4],\n",
    "                   fluxes[5],flux_errs[5],fluxes[6],flux_errs[6],fluxes[7],flux_errs[7]],\n",
    "                   names=['VFID','redshift','WISE1','WISE1_err','WISE2','WISE2_err','WISE3','WISE3_err',\n",
    "                          'WISE4','WISE4_err','NUV','NUV_err','FUV','FUV_err','g','g_err','r','r_err'])\n",
    "\n",
    "#I will need these flags as well. humph.\n",
    "north_flag = phot['DEC_MOMENT']>32\n",
    "south_flag = phot['DEC_MOMENT']<32"
   ]
  },
  {
   "cell_type": "code",
   "execution_count": 102,
   "id": "c0bc24c8-30a0-4d3a-ad36-d3cbf875dcdd",
   "metadata": {
    "tags": []
   },
   "outputs": [],
   "source": [
    "#write files...\n",
    "\n",
    "with open(homedir+'/Desktop/cigale_vf_north/vf_data_north.txt', 'w') as file:\n",
    "    #create file header\n",
    "    s = '# id redshift FUV FUV_err NUV NUV_err g g_err r r_err WISE1 WISE1_err WISE2 WISE2_err WISE3 WISE3_err WISE4 WISE4_err'+' \\n'\n",
    "    file.write(s)\n",
    "    \n",
    "    #for every \"good\" galaxy in phot, add a row to the text file with relevant information\n",
    "    for n in faux_table[north_flag]:\n",
    "        \n",
    "        s_gal = f\"{n[0]} {n[1]} %.3f %.3f %.3f %.3f %.3f %.3f %.3f %.3f %.3f %.3f %.3f %.3f %.3f %.3f %.3f %.3f\"%(n[2],n[3],n[4],n[5],n[6],n[7],n[8],n[9],n[10],n[11],n[12],n[13],n[14],n[15],n[16],n[17]) + '\\n'\n",
    "        file.write(s_gal)\n",
    "    \n",
    "    file.close()    \n",
    "\n",
    "with open(homedir+'/Desktop/cigale_vf_south/vf_data_south.txt', 'w') as file:\n",
    "    #create file header\n",
    "    s = '# id redshift FUV FUV_err NUV NUV_err g g_err r r_err WISE1 WISE1_err WISE2 WISE2_err WISE3 WISE3_err WISE4 WISE4_err'+' \\n'\n",
    "    file.write(s)\n",
    "    \n",
    "    #for every \"good\" galaxy in phot, add a row to the text file with relevant information\n",
    "    for n in faux_table[south_flag]:\n",
    "        \n",
    "        s_gal = f\"{n[0]} {n[1]} %.3f %.3f %.3f %.3f %.3f %.3f %.3f %.3f %.3f %.3f %.3f %.3f %.3f %.3f %.3f %.3f\"%(n[2],n[3],n[4],n[5],n[6],n[7],n[8],n[9],n[10],n[11],n[12],n[13],n[14],n[15],n[16],n[17]) + '\\n'\n",
    "        file.write(s_gal)\n",
    "    \n",
    "    file.close()    "
   ]
  },
  {
   "cell_type": "code",
   "execution_count": 43,
   "id": "8f11c9c4-7a70-4d44-b50a-b61f640f68f2",
   "metadata": {
    "tags": []
   },
   "outputs": [],
   "source": [
    "#and that is that."
   ]
  },
  {
   "cell_type": "markdown",
   "id": "cffe9d82-8414-4f5d-b911-b459ca31519b",
   "metadata": {},
   "source": [
    "---"
   ]
  },
  {
   "cell_type": "code",
   "execution_count": 44,
   "id": "92d0760f-d43b-4cc8-a0c2-18397b54d6c4",
   "metadata": {
    "tags": []
   },
   "outputs": [],
   "source": [
    "#I now need to create the pcigale.ini text file...\n",
    "#the format is as follows:\n",
    "\n",
    "#data_file = ___\n",
    "#parameters_file = ___\n",
    "#sed_modules = ___\n",
    "#analysis_method = pdf_analysis\n",
    "#cores = ___\n",
    "\n",
    "#for now, we will use:\n",
    "\n",
    "#data_file = vf_data_{north/south}.fits\n",
    "#parameters_file = \n",
    "#sed_modules = sfh2exp, bc03, nebular, dustatt_modified_CF00, dl2014, redshifting\n",
    "#analysis_method = pdf_analysis\n",
    "#cores = 1"
   ]
  },
  {
   "cell_type": "code",
   "execution_count": 45,
   "id": "a6b9ca68-08c2-432b-ae33-532f1a9a163c",
   "metadata": {
    "tags": []
   },
   "outputs": [],
   "source": [
    "#write files...\n",
    "\n",
    "with open(homedir+'/Desktop/cigale_vf_north/pcigale.ini', 'w') as file:\n",
    "    file.write('data_file = vf_data_north.txt \\n')\n",
    "    file.write('parameters_file = \\n')\n",
    "    file.write('sed_modules = sfh2exp, bc03, nebular, dustatt_modified_CF00, dl2014, redshifting \\n')\n",
    "    file.write('analysis_method = pdf_analysis \\n')\n",
    "    file.write('cores = 1 \\n')\n",
    "    file.close()    \n",
    "\n",
    "with open(homedir+'/Desktop/cigale_vf_south/pcigale.ini', 'w') as file:\n",
    "    file.write('data_file = vf_data_south.txt \\n')\n",
    "    file.write('parameters_file = \\n')\n",
    "    file.write('sed_modules = sfh2exp, bc03, nebular, dustatt_modified_CF00, dl2014, redshifting \\n')\n",
    "    file.write('analysis_method = pdf_analysis \\n')\n",
    "    file.write('cores = 1 \\n')\n",
    "    file.close()    "
   ]
  },
  {
   "cell_type": "markdown",
   "id": "1c243300-0c94-4acc-85cd-c8197c70bbea",
   "metadata": {},
   "source": [
    "---"
   ]
  },
  {
   "cell_type": "code",
   "execution_count": 48,
   "id": "dc63426e-fb12-43f4-af55-8355a93d3757",
   "metadata": {
    "tags": []
   },
   "outputs": [],
   "source": [
    "#now that I have the main architecture, I will demonstrate the functionality of the .py files\n",
    "#all column names are currently tailored to the VFS photometry catalog. subject to change."
   ]
  },
  {
   "cell_type": "code",
   "execution_count": 378,
   "id": "c2a4da89-d0c1-4c0d-8757-fb6ba38aed91",
   "metadata": {
    "tags": []
   },
   "outputs": [],
   "source": [
    "%run VFS_generate_input_files.py"
   ]
  },
  {
   "cell_type": "code",
   "execution_count": 146,
   "id": "e2565669-1047-4964-afb1-b611fb217ce3",
   "metadata": {
    "tags": []
   },
   "outputs": [],
   "source": [
    "dir_path = homedir+'/Desktop/cigale_vf_north/pcigale.ini'"
   ]
  },
  {
   "cell_type": "code",
   "execution_count": 309,
   "id": "827e1303-d20b-4def-ae0c-5696b36402e5",
   "metadata": {},
   "outputs": [],
   "source": [
    "#converting filters from Jy to mJy...still unsure if needed.\n",
    "#NOTE: will have to manually remove col1 col2 line from text files...\n",
    "#from astropy.io import ascii\n",
    "#fname = 'decamDR1-z.dat'\n",
    "#f=ascii.read(homedir+'/Src/cigale/database_builder/filters/'+fname)\n",
    "#f['col2'] = f['col2']*1e-6\n",
    "#ascii.write(f,homedir+'/Src/cigale/database_builder/filters/'+fname,overwrite=True,format=\"no_header\")\n",
    "\n",
    "#pcigale-filters add filter_filename.dat"
   ]
  },
  {
   "cell_type": "markdown",
   "id": "9fa009ba-bdee-4fff-abb7-cc7ec13a2d3f",
   "metadata": {},
   "source": [
    "---"
   ]
  },
  {
   "cell_type": "code",
   "execution_count": 364,
   "id": "e463a937-8a89-4876-9dad-aa34a357f3fb",
   "metadata": {
    "tags": []
   },
   "outputs": [],
   "source": [
    "south=Table.read(homedir+'/Desktop/cigale_vf_south/out/results.fits')\n",
    "north=Table.read(homedir+'/Desktop/cigale_vf_north/out/results.fits')"
   ]
  },
  {
   "cell_type": "code",
   "execution_count": 365,
   "id": "4f56da02-2512-43bc-bd48-1e16010266e6",
   "metadata": {
    "tags": []
   },
   "outputs": [],
   "source": [
    "fulltab = vstack([north,south])"
   ]
  },
  {
   "cell_type": "code",
   "execution_count": 372,
   "id": "af88cb7a-85de-4394-ab60-3651e8ba5cd6",
   "metadata": {
    "tags": []
   },
   "outputs": [],
   "source": [
    "magphys=Table.read(homedir+'/Desktop/galfit_files/vf-altphot.fits')"
   ]
  },
  {
   "cell_type": "code",
   "execution_count": 367,
   "id": "02cc3d11-e336-425d-be88-60ed8205f235",
   "metadata": {
    "tags": []
   },
   "outputs": [],
   "source": [
    "comtab=[]\n",
    "for i in range(len(magphys)):\n",
    "    if magphys['VFID'][i] in fulltab['id']:\n",
    "        comtab.append(True)\n",
    "    else:\n",
    "        comtab.append(False)"
   ]
  },
  {
   "cell_type": "code",
   "execution_count": 368,
   "id": "211c0041-2e0c-4e60-b200-1dba356313d7",
   "metadata": {
    "tags": []
   },
   "outputs": [
    {
     "data": {
      "image/png": "[encoded data removed]",
      "text/plain": [
       "<Figure size 900x300 with 2 Axes>"
      ]
     },
     "metadata": {},
     "output_type": "display_data"
    }
   ],
   "source": [
    "fig,(ax1,ax2)=plt.subplots(1,2,figsize=(9,3))\n",
    "ax1.scatter(magphys['MAGPHYS_logMstar_med'][comtab],np.log10(fulltab['best.stellar.m_star']),s=20,alpha=0.4)\n",
    "ax1.axline([0,0],slope=1,color='black')\n",
    "ax2.scatter(magphys['MAGPHYS_logMstar_med'][comtab],np.log10(fulltab['best.stellar.m_star']),s=20,alpha=0.4)\n",
    "ax2.axline([0,0],slope=1,color='black')\n",
    "ax2.set_xlim(4.8,11.5)\n",
    "ax2.set_ylim(2.5,11.5)\n",
    "\n",
    "\n",
    "ax1.set_xlabel('MAGPHYS log(Mstar)',fontsize=14)\n",
    "ax1.set_ylabel('CIGALE log(Mstar)',fontsize=14)\n",
    "ax2.set_xlabel('MAGPHYS log(Mstar)',fontsize=14)\n",
    "ax2.set_ylabel('CIGALE log(Mstar)',fontsize=14)\n",
    "plt.show()"
   ]
  },
  {
   "cell_type": "code",
   "execution_count": 369,
   "id": "866ca585-1231-4b95-848c-3b0a37e58ef4",
   "metadata": {
    "tags": []
   },
   "outputs": [
    {
     "data": {
      "text/html": [
       "&lt;Column name=&apos;best.stellar.m_star&apos; dtype=&apos;float64&apos; unit=&apos;solMass&apos; length=1&gt;\n",
       "<table>\n",
       "<tr><td>9.360258960393773</td></tr>\n",
       "</table>"
      ],
      "text/plain": [
       "<Column name='best.stellar.m_star' dtype='float64' unit='solMass' length=1>\n",
       "9.360258960393773"
      ]
     },
     "execution_count": 369,
     "metadata": {},
     "output_type": "execute_result"
    }
   ],
   "source": [
    "np.log10(fulltab[fulltab['id']=='VFID0005']['best.stellar.m_star'])"
   ]
  },
  {
   "cell_type": "code",
   "execution_count": 370,
   "id": "d3463cec-9e32-4cf2-abd3-477e9f28df36",
   "metadata": {
    "tags": []
   },
   "outputs": [],
   "source": [
    "#changed grz headers from 'energy' to 'photon.' numbers match original txtfiles. gives same results as when\n",
    "#I keep 'energy.'\n",
    "\n",
    "#---confirmed that generated table has correct flux information...converted from nanomaggies to mJy (*3.631e-3)\n",
    "#also tried changing energy values of grz filters from Jy (I presume) to mJy...no change\n",
    "#appears that best-fit models really only pass through W3 and W4 measurements...relatively high chi-squared values\n",
    "\n",
    "#changing to SDSS g_prime, r_prime only negligibly affects results. but that is also curious, since I previously\n",
    "#found a different value for VFID0005 logMstar with those SDSS filters! ~8.65. what changed? *the parameters.*\n",
    "    #reverting to initial parameters...sfhdelayed and dale2014. THESE recover that logMstar = 9.36 value for VFID0005.\n",
    "#however...instructed to instead use sfh2exp and dl2014. with sfhdelayed and dale2014, result is ~9.01.\n",
    "\n",
    "#next test --> only using NUV, FUV, W1-W4."
   ]
  },
  {
   "cell_type": "code",
   "execution_count": null,
   "id": "fb09c878-2387-45eb-85b6-71c70b84f02b",
   "metadata": {},
   "outputs": [],
   "source": []
  }
 ],
 "metadata": {
  "kernelspec": {
   "display_name": "Python 3 (ipykernel)",
   "language": "python",
   "name": "python3"
  },
  "language_info": {
   "codemirror_mode": {
    "name": "ipython",
    "version": 3
   },
   "file_extension": ".py",
   "mimetype": "text/x-python",
   "name": "python",
   "nbconvert_exporter": "python",
   "pygments_lexer": "ipython3",
   "version": "3.11.8"
  }
 },
 "nbformat": 4,
 "nbformat_minor": 5
}
